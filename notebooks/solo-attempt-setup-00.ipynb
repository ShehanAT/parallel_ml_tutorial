{
 "cells": [
  {
   "cell_type": "code",
   "execution_count": 1,
   "metadata": {},
   "outputs": [],
   "source": [
    "import numpy as np "
   ]
  },
  {
   "cell_type": "code",
   "execution_count": 2,
   "metadata": {},
   "outputs": [],
   "source": [
    "a = np.array([1, 2, 3])"
   ]
  },
  {
   "cell_type": "code",
   "execution_count": 3,
   "metadata": {},
   "outputs": [
    {
     "data": {
      "text/plain": [
       "array([1, 2, 3])"
      ]
     },
     "execution_count": 3,
     "metadata": {},
     "output_type": "execute_result"
    }
   ],
   "source": [
    "a"
   ]
  },
  {
   "cell_type": "code",
   "execution_count": 5,
   "metadata": {},
   "outputs": [],
   "source": [
    "b = np.array([[0, 2, 4], [1, 3, 5]])"
   ]
  },
  {
   "cell_type": "code",
   "execution_count": 6,
   "metadata": {},
   "outputs": [
    {
     "data": {
      "text/plain": [
       "array([[0, 2, 4],\n",
       "       [1, 3, 5]])"
      ]
     },
     "execution_count": 6,
     "metadata": {},
     "output_type": "execute_result"
    }
   ],
   "source": [
    "b"
   ]
  },
  {
   "cell_type": "code",
   "execution_count": 9,
   "metadata": {},
   "outputs": [
    {
     "name": "stdout",
     "output_type": "stream",
     "text": [
      "(2, 3)\n",
      "int64\n",
      "(3,)\n",
      "int64\n"
     ]
    }
   ],
   "source": [
    "print(b.shape)\n",
    "print(b.dtype)\n",
    "print(a.shape)\n",
    "print(a.dtype) \n"
   ]
  },
  {
   "cell_type": "code",
   "execution_count": 10,
   "metadata": {},
   "outputs": [
    {
     "data": {
      "text/plain": [
       "array([0., 0., 0., 0., 0.])"
      ]
     },
     "execution_count": 10,
     "metadata": {},
     "output_type": "execute_result"
    }
   ],
   "source": [
    "np.zeros(5)"
   ]
  },
  {
   "cell_type": "code",
   "execution_count": 11,
   "metadata": {},
   "outputs": [
    {
     "data": {
      "text/plain": [
       "array([[1, 1, 1, 1],\n",
       "       [1, 1, 1, 1],\n",
       "       [1, 1, 1, 1]], dtype=int32)"
      ]
     },
     "execution_count": 11,
     "metadata": {},
     "output_type": "execute_result"
    }
   ],
   "source": [
    "np.ones(shape=(3, 4), dtype=np.int32)"
   ]
  },
  {
   "cell_type": "code",
   "execution_count": 13,
   "metadata": {},
   "outputs": [
    {
     "name": "stdout",
     "output_type": "stream",
     "text": [
      "[[0.  1.  2. ]\n",
      " [0.5 1.5 2.5]]\n"
     ]
    }
   ],
   "source": [
    "c = b * 0.5\n",
    "print(c)"
   ]
  },
  {
   "cell_type": "code",
   "execution_count": 14,
   "metadata": {},
   "outputs": [
    {
     "name": "stdout",
     "output_type": "stream",
     "text": [
      "[[0.  1.  2. ]\n",
      " [0.5 1.5 2.5]]\n",
      "(2, 3)\n",
      "float64\n"
     ]
    }
   ],
   "source": [
    "print(c)\n",
    "print(c.shape)\n",
    "print(c.dtype)\n"
   ]
  },
  {
   "cell_type": "code",
   "execution_count": 15,
   "metadata": {},
   "outputs": [
    {
     "name": "stdout",
     "output_type": "stream",
     "text": [
      "[1 2 3]\n"
     ]
    }
   ],
   "source": [
    "print(a)"
   ]
  },
  {
   "cell_type": "code",
   "execution_count": 17,
   "metadata": {},
   "outputs": [
    {
     "name": "stdout",
     "output_type": "stream",
     "text": [
      "[[1.  3.  5. ]\n",
      " [1.5 3.5 5.5]]\n"
     ]
    }
   ],
   "source": [
    "d = a + c \n",
    "print(d)"
   ]
  },
  {
   "cell_type": "code",
   "execution_count": 18,
   "metadata": {},
   "outputs": [
    {
     "name": "stdout",
     "output_type": "stream",
     "text": [
      "[[1.  3.  5. ]\n",
      " [1.5 3.5 5.5]]\n",
      "[1. 3. 5.]\n",
      "1.0\n",
      "[1.  1.5]\n",
      "19.5\n",
      "3.25\n",
      "[ 2.5  6.5 10.5]\n"
     ]
    }
   ],
   "source": [
    "print(d)\n",
    "print(d[0])\n",
    "print(d[0, 0])\n",
    "print(d[:, 0])\n",
    "print(d.sum())\n",
    "print(d.mean())\n",
    "print(d.sum(axis=0))"
   ]
  },
  {
   "cell_type": "code",
   "execution_count": 21,
   "metadata": {},
   "outputs": [
    {
     "name": "stdout",
     "output_type": "stream",
     "text": [
      "[ 0  1  2  3  4  5  6  7  8  9 10 11]\n",
      "[[ 0  1  2  3]\n",
      " [ 4  5  6  7]\n",
      " [ 8  9 10 11]]\n",
      "[ 0  1  2  3  4  5  6  7  8  9 10 11]\n",
      "[0 1 2 3 4 0 0 0 0 0 0 0]\n",
      "[[0 1 2 3]\n",
      " [4 0 0 0]\n",
      " [0 0 0 0]]\n"
     ]
    }
   ],
   "source": [
    "e = np.arange(12)\n",
    "print(e)\n",
    "\n",
    "f = e.reshape(3, 4)\n",
    "print(f)\n",
    "\n",
    "print(e)\n",
    "\n",
    "e[5:] = 0\n",
    "\n",
    "print(e)\n",
    "print(f)"
   ]
  },
  {
   "cell_type": "code",
   "execution_count": 22,
   "metadata": {},
   "outputs": [
    {
     "name": "stdout",
     "output_type": "stream",
     "text": [
      "[1 2 3]\n",
      "[[0 2 4]\n",
      " [1 3 5]]\n",
      "[[1.  3.  5. ]\n",
      " [1.5 3.5 5.5]]\n",
      "[1 2 3 1 2 3 1 2 3]\n",
      "[[1.  2.  3. ]\n",
      " [0.  2.  4. ]\n",
      " [1.  3.  5. ]\n",
      " [1.  3.  5. ]\n",
      " [1.5 3.5 5.5]]\n",
      "[[0.  2.  4.  1.  3.  5. ]\n",
      " [1.  3.  5.  1.5 3.5 5.5]]\n"
     ]
    }
   ],
   "source": [
    "print(a)\n",
    "print(b)\n",
    "print(d)\n",
    "print(np.concatenate([a, a, a]))\n",
    "print(np.vstack([a, b, d]))\n",
    "print(np.hstack([b, d]))\n"
   ]
  },
  {
   "cell_type": "code",
   "execution_count": 23,
   "metadata": {},
   "outputs": [],
   "source": [
    "%matplotlib inline"
   ]
  },
  {
   "cell_type": "code",
   "execution_count": 25,
   "metadata": {},
   "outputs": [],
   "source": [
    "import matplotlib.pyplot as plt"
   ]
  },
  {
   "cell_type": "code",
   "execution_count": 26,
   "metadata": {},
   "outputs": [
    {
     "name": "stdout",
     "output_type": "stream",
     "text": [
      "[0.         0.22222222 0.44444444 0.66666667 0.88888889 1.11111111\n",
      " 1.33333333 1.55555556 1.77777778 2.        ]\n"
     ]
    },
    {
     "data": {
      "image/png": "[encoded data removed]",
      "text/plain": [
       "<Figure size 432x288 with 1 Axes>"
      ]
     },
     "metadata": {
      "needs_background": "light"
     },
     "output_type": "display_data"
    }
   ],
   "source": [
    "x = np.linspace(0, 2, 10)\n",
    "print(x)\n",
    "\n",
    "plt.plot(x, 'o-');"
   ]
  },
  {
   "cell_type": "code",
   "execution_count": 32,
   "metadata": {},
   "outputs": [
    {
     "data": {
      "text/plain": [
       "Text(0, 0.5, 'Output')"
      ]
     },
     "execution_count": 32,
     "metadata": {},
     "output_type": "execute_result"
    },
    {
     "data": {
      "image/png": "[encoded data removed]",
      "text/plain": [
       "<Figure size 432x288 with 1 Axes>"
      ]
     },
     "metadata": {
      "needs_background": "light"
     },
     "output_type": "display_data"
    }
   ],
   "source": [
    "plt.plot(x, x, 'o-', label='linear')\n",
    "plt.plot(x, x ** 2, 'x-', label='quadratic')\n",
    "plt.plot(x, x ** 3, 'x-', label='cubic')\n",
    "\n",
    "plt.legend(loc='best')\n",
    "plt.title('Linear vs Quadratic progression')\n",
    "plt.xlabel('Input')\n",
    "plt.ylabel('Output')\n"
   ]
  }
 ],
 "metadata": {
  "kernelspec": {
   "display_name": "Python 3.8.10 ('ml-env': venv)",
   "language": "python",
   "name": "python3"
  },
  "language_info": {
   "codemirror_mode": {
    "name": "ipython",
    "version": 3
   },
   "file_extension": ".py",
   "mimetype": "text/x-python",
   "name": "python",
   "nbconvert_exporter": "python",
   "pygments_lexer": "ipython3",
   "version": "3.8.10"
  },
  "orig_nbformat": 4,
  "vscode": {
   "interpreter": {
    "hash": "63d1ffbb551abc2e92ba85f30304c317352816f15415b608c4a4699d0e59278f"
   }
  }
 },
 "nbformat": 4,
 "nbformat_minor": 2
}
